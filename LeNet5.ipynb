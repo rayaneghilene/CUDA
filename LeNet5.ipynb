{
 "cells": [
  {
   "cell_type": "code",
   "execution_count": 4,
   "id": "5dbde879",
   "metadata": {},
   "outputs": [
    {
     "name": "stdout",
     "output_type": "stream",
     "text": [
      "Defaulting to user installation because normal site-packages is not writeable\n",
      "Requirement already satisfied: tensorflow in /users/rayaghil64/.local/lib/python3.10/site-packages (2.15.0.post1)\n",
      "Requirement already satisfied: six>=1.12.0 in /usr/lib/python3/dist-packages (from tensorflow) (1.16.0)\n",
      "Requirement already satisfied: opt-einsum>=2.3.2 in /users/rayaghil64/.local/lib/python3.10/site-packages (from tensorflow) (3.3.0)\n",
      "Requirement already satisfied: typing-extensions>=3.6.6 in /users/rayaghil64/.local/lib/python3.10/site-packages (from tensorflow) (4.8.0)\n",
      "Requirement already satisfied: setuptools in /usr/lib/python3/dist-packages (from tensorflow) (59.6.0)\n",
      "Requirement already satisfied: flatbuffers>=23.5.26 in /users/rayaghil64/.local/lib/python3.10/site-packages (from tensorflow) (23.5.26)\n",
      "Requirement already satisfied: tensorboard<2.16,>=2.15 in /users/rayaghil64/.local/lib/python3.10/site-packages (from tensorflow) (2.15.1)\n",
      "Requirement already satisfied: termcolor>=1.1.0 in /users/rayaghil64/.local/lib/python3.10/site-packages (from tensorflow) (2.4.0)\n",
      "Requirement already satisfied: gast!=0.5.0,!=0.5.1,!=0.5.2,>=0.2.1 in /users/rayaghil64/.local/lib/python3.10/site-packages (from tensorflow) (0.5.4)\n",
      "Requirement already satisfied: absl-py>=1.0.0 in /users/rayaghil64/.local/lib/python3.10/site-packages (from tensorflow) (2.0.0)\n",
      "Requirement already satisfied: ml-dtypes~=0.2.0 in /users/rayaghil64/.local/lib/python3.10/site-packages (from tensorflow) (0.2.0)\n",
      "Requirement already satisfied: protobuf!=4.21.0,!=4.21.1,!=4.21.2,!=4.21.3,!=4.21.4,!=4.21.5,<5.0.0dev,>=3.20.3 in /users/rayaghil64/.local/lib/python3.10/site-packages (from tensorflow) (4.23.4)\n",
      "Requirement already satisfied: tensorflow-estimator<2.16,>=2.15.0 in /users/rayaghil64/.local/lib/python3.10/site-packages (from tensorflow) (2.15.0)\n",
      "Requirement already satisfied: tensorflow-io-gcs-filesystem>=0.23.1 in /users/rayaghil64/.local/lib/python3.10/site-packages (from tensorflow) (0.34.0)\n",
      "Requirement already satisfied: packaging in /usr/lib/python3/dist-packages (from tensorflow) (21.3)\n",
      "Requirement already satisfied: keras<2.16,>=2.15.0 in /users/rayaghil64/.local/lib/python3.10/site-packages (from tensorflow) (2.15.0)\n",
      "Requirement already satisfied: google-pasta>=0.1.1 in /users/rayaghil64/.local/lib/python3.10/site-packages (from tensorflow) (0.2.0)\n",
      "Requirement already satisfied: grpcio<2.0,>=1.24.3 in /users/rayaghil64/.local/lib/python3.10/site-packages (from tensorflow) (1.59.3)\n",
      "Requirement already satisfied: libclang>=13.0.0 in /users/rayaghil64/.local/lib/python3.10/site-packages (from tensorflow) (16.0.6)\n",
      "Requirement already satisfied: h5py>=2.9.0 in /users/rayaghil64/.local/lib/python3.10/site-packages (from tensorflow) (3.10.0)\n",
      "Requirement already satisfied: astunparse>=1.6.0 in /users/rayaghil64/.local/lib/python3.10/site-packages (from tensorflow) (1.6.3)\n",
      "Requirement already satisfied: numpy<2.0.0,>=1.23.5 in /users/rayaghil64/.local/lib/python3.10/site-packages (from tensorflow) (1.26.2)\n",
      "Requirement already satisfied: wrapt<1.15,>=1.11.0 in /usr/lib/python3/dist-packages (from tensorflow) (1.13.3)\n",
      "Requirement already satisfied: wheel<1.0,>=0.23.0 in /usr/lib/python3/dist-packages (from astunparse>=1.6.0->tensorflow) (0.37.1)\n",
      "Requirement already satisfied: google-auth-oauthlib<2,>=0.5 in /users/rayaghil64/.local/lib/python3.10/site-packages (from tensorboard<2.16,>=2.15->tensorflow) (1.1.0)\n",
      "Requirement already satisfied: requests<3,>=2.21.0 in /usr/lib/python3/dist-packages (from tensorboard<2.16,>=2.15->tensorflow) (2.25.1)\n",
      "Requirement already satisfied: werkzeug>=1.0.1 in /users/rayaghil64/.local/lib/python3.10/site-packages (from tensorboard<2.16,>=2.15->tensorflow) (3.0.1)\n",
      "Requirement already satisfied: tensorboard-data-server<0.8.0,>=0.7.0 in /users/rayaghil64/.local/lib/python3.10/site-packages (from tensorboard<2.16,>=2.15->tensorflow) (0.7.2)\n",
      "Requirement already satisfied: markdown>=2.6.8 in /users/rayaghil64/.local/lib/python3.10/site-packages (from tensorboard<2.16,>=2.15->tensorflow) (3.5.1)\n",
      "Requirement already satisfied: google-auth<3,>=1.6.3 in /users/rayaghil64/.local/lib/python3.10/site-packages (from tensorboard<2.16,>=2.15->tensorflow) (2.25.1)\n",
      "Requirement already satisfied: rsa<5,>=3.1.4 in /users/rayaghil64/.local/lib/python3.10/site-packages (from google-auth<3,>=1.6.3->tensorboard<2.16,>=2.15->tensorflow) (4.9)\n",
      "Requirement already satisfied: pyasn1-modules>=0.2.1 in /users/rayaghil64/.local/lib/python3.10/site-packages (from google-auth<3,>=1.6.3->tensorboard<2.16,>=2.15->tensorflow) (0.3.0)\n",
      "Requirement already satisfied: cachetools<6.0,>=2.0.0 in /users/rayaghil64/.local/lib/python3.10/site-packages (from google-auth<3,>=1.6.3->tensorboard<2.16,>=2.15->tensorflow) (5.3.2)\n",
      "Requirement already satisfied: requests-oauthlib>=0.7.0 in /users/rayaghil64/.local/lib/python3.10/site-packages (from google-auth-oauthlib<2,>=0.5->tensorboard<2.16,>=2.15->tensorflow) (1.3.1)\n",
      "Requirement already satisfied: MarkupSafe>=2.1.1 in /users/rayaghil64/.local/lib/python3.10/site-packages (from werkzeug>=1.0.1->tensorboard<2.16,>=2.15->tensorflow) (2.1.3)\n",
      "Requirement already satisfied: pyasn1<0.6.0,>=0.4.6 in /users/rayaghil64/.local/lib/python3.10/site-packages (from pyasn1-modules>=0.2.1->google-auth<3,>=1.6.3->tensorboard<2.16,>=2.15->tensorflow) (0.5.1)\n",
      "Requirement already satisfied: oauthlib>=3.0.0 in /usr/lib/python3/dist-packages (from requests-oauthlib>=0.7.0->google-auth-oauthlib<2,>=0.5->tensorboard<2.16,>=2.15->tensorflow) (3.2.0)\n"
     ]
    }
   ],
   "source": [
    "!pip install tensorflow"
   ]
  },
  {
   "cell_type": "code",
   "execution_count": 5,
   "id": "a490f7a0-cb6d-4048-87e6-3fa66ee45232",
   "metadata": {},
   "outputs": [
    {
     "name": "stderr",
     "output_type": "stream",
     "text": [
      "2023-12-06 17:07:58.750060: I external/local_tsl/tsl/cuda/cudart_stub.cc:31] Could not find cuda drivers on your machine, GPU will not be used.\n",
      "2023-12-06 17:07:58.804320: E external/local_xla/xla/stream_executor/cuda/cuda_dnn.cc:9261] Unable to register cuDNN factory: Attempting to register factory for plugin cuDNN when one has already been registered\n",
      "2023-12-06 17:07:58.804359: E external/local_xla/xla/stream_executor/cuda/cuda_fft.cc:607] Unable to register cuFFT factory: Attempting to register factory for plugin cuFFT when one has already been registered\n",
      "2023-12-06 17:07:58.805805: E external/local_xla/xla/stream_executor/cuda/cuda_blas.cc:1515] Unable to register cuBLAS factory: Attempting to register factory for plugin cuBLAS when one has already been registered\n",
      "2023-12-06 17:07:58.813924: I external/local_tsl/tsl/cuda/cudart_stub.cc:31] Could not find cuda drivers on your machine, GPU will not be used.\n",
      "2023-12-06 17:08:00.075249: W tensorflow/compiler/tf2tensorrt/utils/py_utils.cc:38] TF-TRT Warning: Could not find TensorRT\n"
     ]
    }
   ],
   "source": [
    "import tensorflow as tf\n",
    "from tensorflow import keras\n",
    "import numpy as np\n",
    "from matplotlib import pyplot\n",
    "from keras.models import model_from_json"
   ]
  },
  {
   "cell_type": "code",
   "execution_count": 6,
   "id": "93d3031b-4533-4aec-a39f-02e28c2e70a7",
   "metadata": {},
   "outputs": [
    {
     "name": "stdout",
     "output_type": "stream",
     "text": [
      "Downloading data from https://storage.googleapis.com/tensorflow/tf-keras-datasets/mnist.npz\n"
     ]
    },
    {
     "name": "stdout",
     "output_type": "stream",
     "text": [
      "11490434/11490434 [==============================] - 1s 0us/step\n"
     ]
    },
    {
     "data": {
      "text/plain": [
       "(60000, 28, 28)"
      ]
     },
     "execution_count": 6,
     "metadata": {},
     "output_type": "execute_result"
    }
   ],
   "source": [
    "(train_x, train_y), (test_x, test_y) = keras.datasets.mnist.load_data()\n",
    "train_x = train_x / 255.0\n",
    "test_x = test_x / 255.0\n",
    "train_x.shape"
   ]
  },
  {
   "cell_type": "code",
   "execution_count": 7,
   "id": "f25fabb6-19d5-49a4-9598-085544a8aab2",
   "metadata": {},
   "outputs": [
    {
     "name": "stderr",
     "output_type": "stream",
     "text": [
      "2023-12-06 17:08:08.700946: I external/local_xla/xla/stream_executor/cuda/cuda_executor.cc:901] successful NUMA node read from SysFS had negative value (-1), but there must be at least one NUMA node, so returning NUMA node zero. See more at https://github.com/torvalds/linux/blob/v6.0/Documentation/ABI/testing/sysfs-bus-pci#L344-L355\n",
      "2023-12-06 17:08:08.753455: W tensorflow/core/common_runtime/gpu/gpu_device.cc:2256] Cannot dlopen some GPU libraries. Please make sure the missing libraries mentioned above are installed properly if you would like to use GPU. Follow the guide at https://www.tensorflow.org/install/gpu for how to download and setup the required libraries for your platform.\n",
      "Skipping registering GPU devices...\n"
     ]
    },
    {
     "data": {
      "text/plain": [
       "TensorShape([60000, 28, 28, 1])"
      ]
     },
     "execution_count": 7,
     "metadata": {},
     "output_type": "execute_result"
    }
   ],
   "source": [
    "train_x = tf.expand_dims(train_x, 3)\n",
    "test_x = tf.expand_dims(test_x, 3)\n",
    "val_x = train_x[:5000]\n",
    "val_y = train_y[:5000]\n",
    "train_x.shape"
   ]
  },
  {
   "cell_type": "code",
   "execution_count": 8,
   "id": "932346b8-8227-448e-aa93-8912ca971962",
   "metadata": {},
   "outputs": [],
   "source": [
    "lenet_5_model = keras.models.Sequential([\n",
    "    keras.layers.Conv2D(6, kernel_size=5, strides=1,  activation='tanh', input_shape=train_x[0].shape, padding='same'), #C1\n",
    "    keras.layers.AveragePooling2D(), #S2\n",
    "    keras.layers.Conv2D(16, kernel_size=5, strides=1, activation='tanh', padding='valid'), #C3\n",
    "    keras.layers.AveragePooling2D(), #S4\n",
    "    keras.layers.Flatten(), #Flatten\n",
    "    keras.layers.Dense(120, activation='tanh'), #C5\n",
    "    keras.layers.Dense(84, activation='tanh'), #F6\n",
    "    keras.layers.Dense(10, activation='softmax') #Output layer\n",
    "])"
   ]
  },
  {
   "cell_type": "code",
   "execution_count": 9,
   "id": "0f9c7fb0-964d-4279-8347-1533097d7c66",
   "metadata": {},
   "outputs": [],
   "source": [
    "lenet_5_model.compile(optimizer='adam',loss=keras.losses.sparse_categorical_crossentropy, metrics=['accuracy'])"
   ]
  },
  {
   "cell_type": "code",
   "execution_count": 10,
   "id": "c1dadc66-075f-4398-9849-4dc87647163f",
   "metadata": {},
   "outputs": [
    {
     "name": "stdout",
     "output_type": "stream",
     "text": [
      "Epoch 1/5\n",
      "1875/1875 [==============================] - 15s 7ms/step - loss: 0.2317 - accuracy: 0.9302 - val_loss: 0.0859 - val_accuracy: 0.9754\n",
      "Epoch 2/5\n",
      "1875/1875 [==============================] - 13s 7ms/step - loss: 0.0880 - accuracy: 0.9735 - val_loss: 0.0534 - val_accuracy: 0.9858\n",
      "Epoch 3/5\n",
      "1875/1875 [==============================] - 13s 7ms/step - loss: 0.0612 - accuracy: 0.9814 - val_loss: 0.0441 - val_accuracy: 0.9864\n",
      "Epoch 4/5\n",
      "1875/1875 [==============================] - 13s 7ms/step - loss: 0.0473 - accuracy: 0.9848 - val_loss: 0.0305 - val_accuracy: 0.9920\n",
      "Epoch 5/5\n",
      "1875/1875 [==============================] - 13s 7ms/step - loss: 0.0374 - accuracy: 0.9881 - val_loss: 0.0283 - val_accuracy: 0.9918\n"
     ]
    },
    {
     "data": {
      "text/plain": [
       "<keras.src.callbacks.History at 0x7f714c430df0>"
      ]
     },
     "execution_count": 10,
     "metadata": {},
     "output_type": "execute_result"
    }
   ],
   "source": [
    "lenet_5_model.fit(train_x, train_y, epochs=5, validation_data=(val_x, val_y))"
   ]
  },
  {
   "cell_type": "code",
   "execution_count": 11,
   "id": "b9886896-43dc-4831-a595-7f040928b87f",
   "metadata": {},
   "outputs": [
    {
     "name": "stdout",
     "output_type": "stream",
     "text": [
      "313/313 [==============================] - 1s 4ms/step - loss: 0.0490 - accuracy: 0.9850\n"
     ]
    },
    {
     "data": {
      "text/plain": [
       "[0.049001313745975494, 0.9850000143051147]"
      ]
     },
     "execution_count": 11,
     "metadata": {},
     "output_type": "execute_result"
    }
   ],
   "source": [
    "lenet_5_model.evaluate(test_x, test_y)"
   ]
  },
  {
   "cell_type": "code",
   "execution_count": 12,
   "id": "e6e8ca62-f863-4e73-acac-25cd7c8d91f9",
   "metadata": {},
   "outputs": [
    {
     "data": {
      "image/png": "[encoded data removed]",
      "text/plain": [
       "<Figure size 640x480 with 1 Axes>"
      ]
     },
     "metadata": {},
     "output_type": "display_data"
    },
    {
     "data": {
      "image/png": "[encoded data removed]",
      "text/plain": [
       "<Figure size 640x480 with 1 Axes>"
      ]
     },
     "metadata": {},
     "output_type": "display_data"
    },
    {
     "data": {
      "image/png": "[encoded data removed]",
      "text/plain": [
       "<Figure size 640x480 with 1 Axes>"
      ]
     },
     "metadata": {},
     "output_type": "display_data"
    }
   ],
   "source": [
    "for i in range(3):  \n",
    "    pyplot.subplot(330 + 1 + i)\n",
    "    pyplot.imshow(train_x[i], cmap=pyplot.get_cmap('gray'))\n",
    "    pyplot.show()"
   ]
  },
  {
   "cell_type": "code",
   "execution_count": 14,
   "id": "329cc15c-9b02-462d-b4e3-5b9d4c765bd8",
   "metadata": {},
   "outputs": [
    {
     "name": "stdout",
     "output_type": "stream",
     "text": [
      "INFO:tensorflow:Assets written to: lenet_5_model/assets\n"
     ]
    },
    {
     "name": "stderr",
     "output_type": "stream",
     "text": [
      "INFO:tensorflow:Assets written to: lenet_5_model/assets\n"
     ]
    },
    {
     "name": "stdout",
     "output_type": "stream",
     "text": [
      "['saved_model.pb', 'fingerprint.pb', 'keras_metadata.pb', 'variables', 'assets']\n"
     ]
    }
   ],
   "source": [
    "import os\n",
    "lenet_5_model.save('lenet_5_model')\n",
    "print(os.listdir('lenet_5_model'))"
   ]
  },
  {
   "cell_type": "code",
   "execution_count": 15,
   "id": "d883f56b-b134-4d81-aedb-1a0213cf2e5a",
   "metadata": {},
   "outputs": [
    {
     "name": "stderr",
     "output_type": "stream",
     "text": [
      "/users/rayaghil64/.local/lib/python3.10/site-packages/keras/src/engine/training.py:3103: UserWarning: You are saving your model as an HDF5 file via `model.save()`. This file format is considered legacy. We recommend using instead the native Keras format, e.g. `model.save('my_model.keras')`.\n",
      "  saving_api.save_model(\n"
     ]
    }
   ],
   "source": [
    "lenet_5_model.save(\"my.h5\")"
   ]
  },
  {
   "cell_type": "code",
   "execution_count": 16,
   "id": "e4039b16-8b65-4686-8e77-d8933555c2b1",
   "metadata": {},
   "outputs": [
    {
     "name": "stdout",
     "output_type": "stream",
     "text": [
      "Model: \"sequential\"\n",
      "_________________________________________________________________\n",
      " Layer (type)                Output Shape              Param #   \n",
      "=================================================================\n",
      " conv2d (Conv2D)             (None, 28, 28, 6)         156       \n",
      "                                                                 \n",
      " average_pooling2d (Average  (None, 14, 14, 6)         0         \n",
      " Pooling2D)                                                      \n",
      "                                                                 \n",
      " conv2d_1 (Conv2D)           (None, 10, 10, 16)        2416      \n",
      "                                                                 \n",
      " average_pooling2d_1 (Avera  (None, 5, 5, 16)          0         \n",
      " gePooling2D)                                                    \n",
      "                                                                 \n",
      " flatten (Flatten)           (None, 400)               0         \n",
      "                                                                 \n",
      " dense (Dense)               (None, 120)               48120     \n",
      "                                                                 \n",
      " dense_1 (Dense)             (None, 84)                10164     \n",
      "                                                                 \n",
      " dense_2 (Dense)             (None, 10)                850       \n",
      "                                                                 \n",
      "=================================================================\n",
      "Total params: 61706 (241.04 KB)\n",
      "Trainable params: 61706 (241.04 KB)\n",
      "Non-trainable params: 0 (0.00 Byte)\n",
      "_________________________________________________________________\n"
     ]
    }
   ],
   "source": [
    "lenet_5_model.summary()"
   ]
  },
  {
   "cell_type": "code",
   "execution_count": 17,
   "id": "24d1a878-c7a2-4688-9dca-35ab8c5edd2c",
   "metadata": {},
   "outputs": [],
   "source": [
    "json_model = lenet_5_model.to_json()"
   ]
  },
  {
   "cell_type": "code",
   "execution_count": 18,
   "id": "c3a3b789-e537-4677-931e-6688b2786be7",
   "metadata": {},
   "outputs": [],
   "source": [
    "with open('fashionmnist_model.json', 'w') as json_file:\n",
    "    json_file.write(json_model)"
   ]
  },
  {
   "cell_type": "code",
   "execution_count": 19,
   "id": "14bd5eec-4991-4eed-ac6e-4d6d126a167d",
   "metadata": {},
   "outputs": [],
   "source": [
    "lenet_5_model.save_weights('FashionMNIST_weights.h5')"
   ]
  },
  {
   "cell_type": "code",
   "execution_count": 20,
   "id": "929aed57-808a-4df6-a9f7-ce9eec9d4ba1",
   "metadata": {},
   "outputs": [
    {
     "data": {
      "text/plain": [
       "array([[[[-6.06267601e-02,  6.16036318e-02,  6.63367137e-02,\n",
       "           8.49773660e-02, -1.46428719e-01, -5.99554088e-03]],\n",
       "\n",
       "        [[ 5.50113283e-02,  3.05172741e-01, -1.50779575e-01,\n",
       "           2.64993548e-01, -3.48653905e-02,  9.10222009e-02]],\n",
       "\n",
       "        [[-3.16706859e-02, -9.58753675e-02, -3.89171764e-02,\n",
       "           3.77790481e-01, -2.48085797e-01,  1.94411799e-01]],\n",
       "\n",
       "        [[-1.33942828e-01, -2.20994830e-01, -2.80585438e-01,\n",
       "           9.78212729e-02, -3.10233504e-01,  2.87592113e-01]],\n",
       "\n",
       "        [[-7.98023939e-02, -6.92119539e-01, -2.48145536e-01,\n",
       "          -1.37246460e-01, -2.07229376e-01,  2.54120886e-01]]],\n",
       "\n",
       "\n",
       "       [[[-6.27246648e-02, -3.20631312e-03, -2.10679129e-01,\n",
       "           1.39472947e-01, -3.13496411e-01,  3.29816312e-01]],\n",
       "\n",
       "        [[-1.27105758e-01, -1.86316594e-02, -2.18624726e-01,\n",
       "           5.34482658e-01, -1.53728038e-01,  1.16708845e-01]],\n",
       "\n",
       "        [[ 3.64249423e-02,  8.86164233e-02, -1.31259218e-01,\n",
       "           4.55500633e-01, -1.51403502e-01,  9.01053697e-02]],\n",
       "\n",
       "        [[-2.53258139e-01, -5.15799165e-01, -3.48325461e-01,\n",
       "           4.91145579e-03,  7.02738587e-04,  1.96795374e-01]],\n",
       "\n",
       "        [[-3.86520952e-01, -7.23806262e-01, -1.38550550e-01,\n",
       "           8.44211057e-02, -1.60369575e-01,  2.50353754e-01]]],\n",
       "\n",
       "\n",
       "       [[[ 1.56752244e-01,  2.45959669e-01,  2.02763230e-02,\n",
       "          -4.51437458e-02, -1.00547522e-02,  2.94796407e-01]],\n",
       "\n",
       "        [[ 1.46105155e-01,  2.32292905e-01, -7.04850908e-03,\n",
       "           3.53777230e-01, -7.72745013e-02,  1.98944286e-02]],\n",
       "\n",
       "        [[-1.32329643e-01,  2.04685684e-02, -5.04747592e-02,\n",
       "           1.04405500e-01,  1.81297719e-01,  2.35524207e-01]],\n",
       "\n",
       "        [[-4.67676282e-01, -7.74285853e-01,  1.25380349e-03,\n",
       "           7.64169767e-02,  1.67282343e-01, -1.42984092e-01]],\n",
       "\n",
       "        [[-1.34963855e-01, -4.89963591e-01,  1.58711478e-01,\n",
       "           6.99578896e-02,  2.40556091e-01, -1.35900117e-02]]],\n",
       "\n",
       "\n",
       "       [[[ 3.87639463e-01,  1.83122396e-01,  4.56120908e-01,\n",
       "          -2.75464565e-01, -7.82675669e-02, -4.42481693e-03]],\n",
       "\n",
       "        [[ 3.23616177e-01,  1.38675570e-01,  6.35120213e-01,\n",
       "           5.23496941e-02,  7.31358901e-02, -2.29350179e-01]],\n",
       "\n",
       "        [[ 1.12979814e-01, -2.75506318e-01,  6.92445695e-01,\n",
       "          -3.33429456e-01,  2.26357833e-01, -3.53792697e-01]],\n",
       "\n",
       "        [[-7.16551840e-02, -3.29062283e-01,  7.01323390e-01,\n",
       "          -3.04309726e-01,  5.33521056e-01, -3.69188219e-01]],\n",
       "\n",
       "        [[-1.42057240e-01, -2.45105550e-01,  5.13149261e-01,\n",
       "          -6.33233264e-02,  3.76963764e-01, -2.85096794e-01]]],\n",
       "\n",
       "\n",
       "       [[[ 7.54023045e-02, -5.72220609e-02,  4.04340029e-01,\n",
       "          -3.26877683e-02, -3.46762508e-01, -3.69489223e-01]],\n",
       "\n",
       "        [[-4.08553024e-04,  7.25587085e-02,  1.84708625e-01,\n",
       "          -3.57963175e-01,  1.38045639e-01, -5.84330380e-01]],\n",
       "\n",
       "        [[-1.37414038e-02, -3.09575021e-01,  4.59689528e-01,\n",
       "          -1.11455150e-01,  3.73902738e-01, -6.32687986e-01]],\n",
       "\n",
       "        [[ 2.69719251e-02, -1.97621495e-01,  3.18977475e-01,\n",
       "          -3.31446707e-01,  2.40258321e-01, -4.47387606e-01]],\n",
       "\n",
       "        [[ 8.36595744e-02,  4.61407714e-02,  3.81419063e-01,\n",
       "          -2.57194102e-01,  1.43729180e-01, -3.45398217e-01]]]],\n",
       "      dtype=float32)"
      ]
     },
     "execution_count": 20,
     "metadata": {},
     "output_type": "execute_result"
    }
   ],
   "source": [
    "lenet_5_model.layers[0].get_weights()[0]"
   ]
  }
 ],
 "metadata": {
  "kernelspec": {
   "display_name": "Python 3",
   "language": "python",
   "name": "python3"
  },
  "language_info": {
   "codemirror_mode": {
    "name": "ipython",
    "version": 3
   },
   "file_extension": ".py",
   "mimetype": "text/x-python",
   "name": "python",
   "nbconvert_exporter": "python",
   "pygments_lexer": "ipython3",
   "version": "3.10.12"
  }
 },
 "nbformat": 4,
 "nbformat_minor": 5
}
